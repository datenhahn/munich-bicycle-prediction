{
 "cells": [
  {
   "cell_type": "markdown",
   "metadata": {
    "collapsed": true
   },
   "source": [
    "# Munich Bicycle Data - Cleaned\n",
    "\n",
    "This jupyter notebook cleanes and normalizes raw data from the munich bicycle tracking stations.\n",
    "\n",
    "\n",
    "It performs the following steps:\n",
    "\n",
    "* Load all daily data csv files into one dataframe\n",
    "* Merge the counting stations (\"Zaehlstellen\") information into the dataframe (for easier handling)\n",
    "* Fix data/format inconsistencies, transform and deduplicate the data\n",
    "* Save the data as json lines for further processing\n",
    "\n",
    "This jupyter notebook requires the download of the raw data before proceeding with the notebook.\n",
    "\n",
    "Please execute:\n",
    "\n",
    "```\n",
    "cd raw\n",
    "python3 download_raw.py\n",
    "```\n",
    "\n",
    "\n",
    "## Documentation of input data\n",
    "\n",
    "You find a detailed documentation of the input data source in the **README.md** in this folder.\n",
    "\n",
    "This is the most relevant overview:\n",
    "\n",
    "* The API offers metadata in json format\n",
    "* The metadata contains links to csv files\n",
    "* There are csv files with the counting data per day and per 15 minute intervals\n",
    "* There is an extra csv file with information about the counting stations\n",
    "* The csv files with the daily counts also contain weather information\n",
    "\n",
    "## Cleaning the input data\n",
    "\n",
    "### Bicycle Counting Stations"
   ]
  },
  {
   "cell_type": "code",
   "execution_count": 1,
   "metadata": {},
   "outputs": [
    {
     "data": {
      "text/plain": "  zaehlstelle                  zaehlstelle_lang  latitude  longitude  \\\n0      Arnulf        Arnulfstr. 9 - 11 Südseite  48.14205   11.55534   \n1    Kreuther                 Bad-Kreuther-Str.  48.12194   11.62417   \n2     Olympia  Rudolf-Harbig-Weg (Olympia Park)  48.16887   11.55005   \n3      Hirsch      Birketweg HLP (Hirschgarten)  48.14438   11.51794   \n4  Margareten           Margaretenstr. (Harras)  48.12032   11.53599   \n5     Erhardt    Erhardtstr. (Deutsches Museum)  48.13192   11.58469   \n\n  richtung_1 richtung_2  \\\n0        Ost       West   \n1       West        Ost   \n2       Nord        Süd   \n3       West        Ost   \n4       West        Ost   \n5        Süd       Nord   \n\n                                                                                                                                                                                                                                                                                       besonderheiten  \n0                                                                                                                                                                    nur Stadteinwärts. Die Zählungen der Zählstelle Arnulfstraße sind seit Anfang 2021 stark von der dortigen Baustelle beeinflusst.  \n1  Im April 2020 wurde die Zählschleife am Joseph-Hörwick-Weg auf den gesamten Querschnitt des Fuß- und Radweges ausgeweitet. Die Breite der Zählschleife hat sich dadurch in etwa verdoppelt. Bitte beachten Sie, dass Veränderungen in den Zahlen ab dem 1. April 2020 darauf zurückzuführen sind.   \n2                                                                                                                                                                                                                                                                                                 NaN  \n3                                                                                                                                                                                                                                                                                                 NaN  \n4                                                                                                                                                                                                                                                                                                 NaN  \n5                                                                                                                                                                                                                                         Es wird auf dem Fahrradweg als auch auf dem Fußweg gezählt.  ",
      "text/html": "<div>\n<style scoped>\n    .dataframe tbody tr th:only-of-type {\n        vertical-align: middle;\n    }\n\n    .dataframe tbody tr th {\n        vertical-align: top;\n    }\n\n    .dataframe thead th {\n        text-align: right;\n    }\n</style>\n<table border=\"1\" class=\"dataframe\">\n  <thead>\n    <tr style=\"text-align: right;\">\n      <th></th>\n      <th>zaehlstelle</th>\n      <th>zaehlstelle_lang</th>\n      <th>latitude</th>\n      <th>longitude</th>\n      <th>richtung_1</th>\n      <th>richtung_2</th>\n      <th>besonderheiten</th>\n    </tr>\n  </thead>\n  <tbody>\n    <tr>\n      <th>0</th>\n      <td>Arnulf</td>\n      <td>Arnulfstr. 9 - 11 Südseite</td>\n      <td>48.14205</td>\n      <td>11.55534</td>\n      <td>Ost</td>\n      <td>West</td>\n      <td>nur Stadteinwärts. Die Zählungen der Zählstelle Arnulfstraße sind seit Anfang 2021 stark von der dortigen Baustelle beeinflusst.</td>\n    </tr>\n    <tr>\n      <th>1</th>\n      <td>Kreuther</td>\n      <td>Bad-Kreuther-Str.</td>\n      <td>48.12194</td>\n      <td>11.62417</td>\n      <td>West</td>\n      <td>Ost</td>\n      <td>Im April 2020 wurde die Zählschleife am Joseph-Hörwick-Weg auf den gesamten Querschnitt des Fuß- und Radweges ausgeweitet. Die Breite der Zählschleife hat sich dadurch in etwa verdoppelt. Bitte beachten Sie, dass Veränderungen in den Zahlen ab dem 1. April 2020 darauf zurückzuführen sind.</td>\n    </tr>\n    <tr>\n      <th>2</th>\n      <td>Olympia</td>\n      <td>Rudolf-Harbig-Weg (Olympia Park)</td>\n      <td>48.16887</td>\n      <td>11.55005</td>\n      <td>Nord</td>\n      <td>Süd</td>\n      <td>NaN</td>\n    </tr>\n    <tr>\n      <th>3</th>\n      <td>Hirsch</td>\n      <td>Birketweg HLP (Hirschgarten)</td>\n      <td>48.14438</td>\n      <td>11.51794</td>\n      <td>West</td>\n      <td>Ost</td>\n      <td>NaN</td>\n    </tr>\n    <tr>\n      <th>4</th>\n      <td>Margareten</td>\n      <td>Margaretenstr. (Harras)</td>\n      <td>48.12032</td>\n      <td>11.53599</td>\n      <td>West</td>\n      <td>Ost</td>\n      <td>NaN</td>\n    </tr>\n    <tr>\n      <th>5</th>\n      <td>Erhardt</td>\n      <td>Erhardtstr. (Deutsches Museum)</td>\n      <td>48.13192</td>\n      <td>11.58469</td>\n      <td>Süd</td>\n      <td>Nord</td>\n      <td>Es wird auf dem Fahrradweg als auch auf dem Fußweg gezählt.</td>\n    </tr>\n  </tbody>\n</table>\n</div>"
     },
     "execution_count": 1,
     "metadata": {},
     "output_type": "execute_result"
    }
   ],
   "source": [
    "import glob\n",
    "import pandas\n",
    "\n",
    "# increase output width to be able to read all \"besonderheiten\" (special cases)\n",
    "pandas.options.display.max_colwidth = 300\n",
    "\n",
    "# Read the counting stations csv\n",
    "counting_stations_csv = glob.glob(\"./raw/*radzaehlstellen.csv\")[0]\n",
    "df_counting_stations = pandas.read_csv(counting_stations_csv)\n",
    "df_counting_stations"
   ]
  },
  {
   "cell_type": "markdown",
   "metadata": {},
   "source": [
    "## Daily Data\n",
    "\n",
    "We are only interested in the daily data for our project. The data contains the following issues, which we will remove in the cleaning process:\n",
    "\n",
    "* In some csv-files the min and max temperature columns are named `in.temp` and in others `in-temp` we unify this to `min-temp`\n",
    "* Similarily there are the columns `max.temp` and `max-temp` which is unified to `max-temp`\n",
    "* The column `besonderheiten` contains null values which are replaced with empty strings\n",
    "* The datum column has different formats in different csvs (see _Correct date column_ for details)"
   ]
  },
  {
   "cell_type": "code",
   "execution_count": 2,
   "metadata": {},
   "outputs": [],
   "source": [
    "import os\n",
    "\n",
    "def read_all(glob_expression):\n",
    "    \"\"\"Reads all csv files selected by the glob expression and concatenates them into one single dataframe.\n",
    "       Renames min.temp and max.temp columns so the column names match in all csv files.\"\"\"\n",
    "    \n",
    "    data_csvs = glob.glob(glob_expression)\n",
    "    \n",
    "    dfs = []\n",
    "    for data_csv in data_csvs:\n",
    "        data = pandas.read_csv(data_csv)\n",
    "\n",
    "        # Fix inconsistent temperature column names\n",
    "        if 'min.temp' in data.columns:\n",
    "            data = data.rename(columns={'min.temp': 'min-temp'})\n",
    "        if 'max.temp' in data.columns:\n",
    "            data = data.rename(columns={'max.temp': 'max-temp'})\n",
    "\n",
    "        # Add the source filename for easier debugging\n",
    "        data['datei'] = os.path.basename(data_csv)\n",
    "        dfs.append(data)\n",
    "    df_all_data = pandas.concat(dfs, ignore_index=True)\n",
    "    return df_all_data\n",
    "\n",
    "# Read all csv files and merge them into one dataframe, then merge the counting stations\n",
    "df_daily_data = read_all(\"raw/*rad*tage*.csv\")\n",
    "df_daily_data = df_daily_data.merge(df_counting_stations, on='zaehlstelle')\n",
    "\n",
    "# Replace null values in \"besonderheiten\" column with empty strings\n",
    "df_daily_data['besonderheiten'] = df_daily_data['besonderheiten'].fillna('')"
   ]
  },
  {
   "cell_type": "code",
   "execution_count": 3,
   "metadata": {
    "scrolled": true
   },
   "outputs": [
    {
     "data": {
      "text/plain": "        datum uhrzeit_start uhrzeit_ende zaehlstelle  richtung_1_x  \\\n0  2017.03.01      00:00:00        23.59      Arnulf           742   \n1  2017.03.02      00:00:00        23.59      Arnulf           706   \n2  2017.03.03      00:00:00        23.59      Arnulf           921   \n\n   richtung_2_x  gesamt min-temp max-temp niederschlag  bewoelkung  \\\n0            52     794      1.4      8.1          3.9          85   \n1            72     778      3.4     10.7          0.1          58   \n2            73     994      1.0     13.1          0.0          75   \n\n  sonnenstunden  \\\n0           1.4   \n1           4.2   \n2           4.6   \n\n                                                                                                       datei  \\\n0  daten-der-raddauerzaehlstellen-muenchen-maerz-2017-c9af32b1-fc32-4099-be51-4df58a577919-rad201703tage.csv   \n1  daten-der-raddauerzaehlstellen-muenchen-maerz-2017-c9af32b1-fc32-4099-be51-4df58a577919-rad201703tage.csv   \n2  daten-der-raddauerzaehlstellen-muenchen-maerz-2017-c9af32b1-fc32-4099-be51-4df58a577919-rad201703tage.csv   \n\n             zaehlstelle_lang  latitude  longitude richtung_1_y richtung_2_y  \\\n0  Arnulfstr. 9 - 11 Südseite  48.14205   11.55534          Ost         West   \n1  Arnulfstr. 9 - 11 Südseite  48.14205   11.55534          Ost         West   \n2  Arnulfstr. 9 - 11 Südseite  48.14205   11.55534          Ost         West   \n\n                                                                                                                     besonderheiten  \n0  nur Stadteinwärts. Die Zählungen der Zählstelle Arnulfstraße sind seit Anfang 2021 stark von der dortigen Baustelle beeinflusst.  \n1  nur Stadteinwärts. Die Zählungen der Zählstelle Arnulfstraße sind seit Anfang 2021 stark von der dortigen Baustelle beeinflusst.  \n2  nur Stadteinwärts. Die Zählungen der Zählstelle Arnulfstraße sind seit Anfang 2021 stark von der dortigen Baustelle beeinflusst.  ",
      "text/html": "<div>\n<style scoped>\n    .dataframe tbody tr th:only-of-type {\n        vertical-align: middle;\n    }\n\n    .dataframe tbody tr th {\n        vertical-align: top;\n    }\n\n    .dataframe thead th {\n        text-align: right;\n    }\n</style>\n<table border=\"1\" class=\"dataframe\">\n  <thead>\n    <tr style=\"text-align: right;\">\n      <th></th>\n      <th>datum</th>\n      <th>uhrzeit_start</th>\n      <th>uhrzeit_ende</th>\n      <th>zaehlstelle</th>\n      <th>richtung_1_x</th>\n      <th>richtung_2_x</th>\n      <th>gesamt</th>\n      <th>min-temp</th>\n      <th>max-temp</th>\n      <th>niederschlag</th>\n      <th>bewoelkung</th>\n      <th>sonnenstunden</th>\n      <th>datei</th>\n      <th>zaehlstelle_lang</th>\n      <th>latitude</th>\n      <th>longitude</th>\n      <th>richtung_1_y</th>\n      <th>richtung_2_y</th>\n      <th>besonderheiten</th>\n    </tr>\n  </thead>\n  <tbody>\n    <tr>\n      <th>0</th>\n      <td>2017.03.01</td>\n      <td>00:00:00</td>\n      <td>23.59</td>\n      <td>Arnulf</td>\n      <td>742</td>\n      <td>52</td>\n      <td>794</td>\n      <td>1.4</td>\n      <td>8.1</td>\n      <td>3.9</td>\n      <td>85</td>\n      <td>1.4</td>\n      <td>daten-der-raddauerzaehlstellen-muenchen-maerz-2017-c9af32b1-fc32-4099-be51-4df58a577919-rad201703tage.csv</td>\n      <td>Arnulfstr. 9 - 11 Südseite</td>\n      <td>48.14205</td>\n      <td>11.55534</td>\n      <td>Ost</td>\n      <td>West</td>\n      <td>nur Stadteinwärts. Die Zählungen der Zählstelle Arnulfstraße sind seit Anfang 2021 stark von der dortigen Baustelle beeinflusst.</td>\n    </tr>\n    <tr>\n      <th>1</th>\n      <td>2017.03.02</td>\n      <td>00:00:00</td>\n      <td>23.59</td>\n      <td>Arnulf</td>\n      <td>706</td>\n      <td>72</td>\n      <td>778</td>\n      <td>3.4</td>\n      <td>10.7</td>\n      <td>0.1</td>\n      <td>58</td>\n      <td>4.2</td>\n      <td>daten-der-raddauerzaehlstellen-muenchen-maerz-2017-c9af32b1-fc32-4099-be51-4df58a577919-rad201703tage.csv</td>\n      <td>Arnulfstr. 9 - 11 Südseite</td>\n      <td>48.14205</td>\n      <td>11.55534</td>\n      <td>Ost</td>\n      <td>West</td>\n      <td>nur Stadteinwärts. Die Zählungen der Zählstelle Arnulfstraße sind seit Anfang 2021 stark von der dortigen Baustelle beeinflusst.</td>\n    </tr>\n    <tr>\n      <th>2</th>\n      <td>2017.03.03</td>\n      <td>00:00:00</td>\n      <td>23.59</td>\n      <td>Arnulf</td>\n      <td>921</td>\n      <td>73</td>\n      <td>994</td>\n      <td>1.0</td>\n      <td>13.1</td>\n      <td>0.0</td>\n      <td>75</td>\n      <td>4.6</td>\n      <td>daten-der-raddauerzaehlstellen-muenchen-maerz-2017-c9af32b1-fc32-4099-be51-4df58a577919-rad201703tage.csv</td>\n      <td>Arnulfstr. 9 - 11 Südseite</td>\n      <td>48.14205</td>\n      <td>11.55534</td>\n      <td>Ost</td>\n      <td>West</td>\n      <td>nur Stadteinwärts. Die Zählungen der Zählstelle Arnulfstraße sind seit Anfang 2021 stark von der dortigen Baustelle beeinflusst.</td>\n    </tr>\n  </tbody>\n</table>\n</div>"
     },
     "execution_count": 3,
     "metadata": {},
     "output_type": "execute_result"
    }
   ],
   "source": [
    "# Peek into dataframe after basic load\n",
    "df_daily_data.head(3)"
   ]
  },
  {
   "cell_type": "markdown",
   "metadata": {},
   "source": [
    "### Correct date column\n",
    "\n",
    "There 3 different date formats in the csv files:\n",
    "\n",
    "* 01.05.2022 (%d.%m.%Y) German format\n",
    "* 2022.05.01 (%Y.%m.%d) ISO format with dots instead of dashes\n",
    "* 2022-05-01 (%Y-%m-%d) ISO format\n",
    "\n",
    "We convert this all into iso format"
   ]
  },
  {
   "cell_type": "code",
   "execution_count": 4,
   "metadata": {},
   "outputs": [
    {
     "name": "stdout",
     "output_type": "stream",
     "text": [
      "datum               14052\n",
      "uhrzeit_start       14052\n",
      "uhrzeit_ende        14052\n",
      "zaehlstelle         14052\n",
      "richtung_1_x        14052\n",
      "richtung_2_x        14052\n",
      "gesamt              14052\n",
      "min-temp            14052\n",
      "max-temp            14052\n",
      "niederschlag        14052\n",
      "bewoelkung          14052\n",
      "sonnenstunden       14052\n",
      "datei               14052\n",
      "zaehlstelle_lang    14052\n",
      "latitude            14052\n",
      "longitude           14052\n",
      "richtung_1_y        14052\n",
      "richtung_2_y        14052\n",
      "besonderheiten      14052\n",
      "dtype: int64\n"
     ]
    }
   ],
   "source": [
    "# The date format in most columns is 2017.03.03 meaning '%Y.%m.%d', but there a couple of ones\n",
    "# which don't match the format, so this throws exceptions\n",
    "# df_daily_data['datum'] = pandas.to_datetime(df_daily_data['datum'], format='%Y.%m.%d')\n",
    "#   ValueError: time data \"01.05.2022\" at position 793 doesn't match format specified\n",
    "from re import match\n",
    "\n",
    "ISO_FORMAT_REGEX = '^[0-9]{4}-[0-9]{2}-[0-9]{2}'\n",
    "GERMAN_FORMAT_REGEX = '^([0-9]{2})\\.([0-9]{2})\\.([0-9]{4})$'\n",
    "\n",
    "def reformat_date(input_data):\n",
    "    \"\"\"Reformats a date string into iso format, input can be german date format or iso format with\n",
    "       dots. Plain isoformat can also be passed in, but won't be changed.\"\"\"\n",
    "    groups = match(GERMAN_FORMAT_REGEX, input_data)\n",
    "    iso_format_with_dots = input_data\n",
    "    \n",
    "    # If the german format matches, then we reverse the order of the date groups\n",
    "    if groups:\n",
    "        iso_format_with_dots = groups.group(3) + \".\" + groups.group(2) + \".\" + groups.group(1)\n",
    "    \n",
    "    # Finally we replace the dots with dashes\n",
    "    return iso_format_with_dots.replace(\".\", \"-\")\n",
    "\n",
    "def print_non_iso_dates(df):\n",
    "    \"\"\"Prints all non iso dates in the dataframe.\"\"\"\n",
    "    matches = df['datum'].str.contains(ISO_FORMAT_REGEX, regex=True)\n",
    "    non_matches = ~matches\n",
    "    df_non_matching = df[non_matches]\n",
    "    print(df_non_matching.count())\n",
    "    \n",
    "print_non_iso_dates(df_daily_data)"
   ]
  },
  {
   "cell_type": "code",
   "execution_count": 5,
   "metadata": {},
   "outputs": [],
   "source": [
    "df_daily_data['datum'] = df_daily_data['datum'].apply(reformat_date)"
   ]
  },
  {
   "cell_type": "code",
   "execution_count": 6,
   "metadata": {},
   "outputs": [
    {
     "name": "stdout",
     "output_type": "stream",
     "text": [
      "datum               0\n",
      "uhrzeit_start       0\n",
      "uhrzeit_ende        0\n",
      "zaehlstelle         0\n",
      "richtung_1_x        0\n",
      "richtung_2_x        0\n",
      "gesamt              0\n",
      "min-temp            0\n",
      "max-temp            0\n",
      "niederschlag        0\n",
      "bewoelkung          0\n",
      "sonnenstunden       0\n",
      "datei               0\n",
      "zaehlstelle_lang    0\n",
      "latitude            0\n",
      "longitude           0\n",
      "richtung_1_y        0\n",
      "richtung_2_y        0\n",
      "besonderheiten      0\n",
      "dtype: int64\n"
     ]
    }
   ],
   "source": [
    "print_non_iso_dates(df_daily_data)"
   ]
  },
  {
   "cell_type": "code",
   "execution_count": 7,
   "metadata": {},
   "outputs": [],
   "source": [
    "# Now as the dates are in uniform form we can convert the strings to datetime to get a nicer plot\n",
    "df_daily_data['datum'] = pandas.to_datetime(df_daily_data['datum'], format='%Y-%m-%d')\n",
    "\n",
    "# Clone the date column and use it as index\n",
    "df_daily_data['datum_index'] = df_daily_data['datum']\n",
    "df_daily_data = df_daily_data.set_index('datum_index')\n",
    "\n",
    "# Drop not required uhrzeit (time) columns\n",
    "df_daily_data = df_daily_data.drop(columns=['uhrzeit_start', 'uhrzeit_ende'])\n",
    "\n",
    "# Unify float number formats\n",
    "df_daily_data['min-temp'] = df_daily_data['min-temp'].astype(str).str.replace(',', '.').astype(float)\n",
    "df_daily_data['max-temp'] = df_daily_data['max-temp'].astype(str).str.replace(',', '.').astype(float)\n",
    "df_daily_data['niederschlag'] = df_daily_data['niederschlag'].astype(str).str.replace(',', '.').astype(float)\n",
    "df_daily_data['sonnenstunden'] = df_daily_data['sonnenstunden'].astype(str).str.replace(',', '.').astype(float)\n",
    "\n",
    "# Cast to correct types to allow deduplication\n",
    "df_daily_data = df_daily_data.astype({\n",
    "    'zaehlstelle': 'str',\n",
    "    'richtung_1_x': 'int',\n",
    "    'richtung_2_x': 'int',\n",
    "    'gesamt': 'int',\n",
    "    'min-temp': 'float',\n",
    "    'max-temp': 'float',\n",
    "    'niederschlag': 'float',\n",
    "    'bewoelkung': 'float',\n",
    "    'sonnenstunden': 'float',\n",
    "    'datei': 'str',\n",
    "    'zaehlstelle_lang': 'str',\n",
    "    'latitude': 'float',\n",
    "    'longitude': 'float',\n",
    "    'richtung_1_y': 'str',\n",
    "    'richtung_2_y': 'str',\n",
    "    'besonderheiten': 'str'\n",
    "})\n",
    "\n",
    "# We don't want to check the datei (filename) column during deduplication, as this always will differ\n",
    "columns_to_check = [col for col in df_daily_data.columns if col != 'datei']\n",
    "\n",
    "df_daily_data = df_daily_data.drop_duplicates(columns_to_check)"
   ]
  },
  {
   "cell_type": "code",
   "execution_count": 8,
   "outputs": [],
   "source": [
    "# To drop duplicates with nan in min-temp we use\n",
    "df_daily_data = df_daily_data.dropna(subset=['min-temp'])\n",
    "\n",
    "# Now let's deduplicate the remaining days by keeping the ones with the highest \"gesamt\" value\n",
    "df_daily_data = df_daily_data.sort_values('gesamt', ascending=False)\n",
    "df_daily_data = df_daily_data.drop_duplicates(subset=[\"datum\",\"zaehlstelle\"], keep='first')"
   ],
   "metadata": {
    "collapsed": false
   }
  },
  {
   "cell_type": "code",
   "execution_count": 9,
   "outputs": [
    {
     "data": {
      "text/plain": "<Axes: xlabel='datum'>"
     },
     "execution_count": 9,
     "metadata": {},
     "output_type": "execute_result"
    },
    {
     "data": {
      "text/plain": "<Figure size 640x480 with 1 Axes>",
      "image/png": "[encoded data removed]"
     },
     "metadata": {},
     "output_type": "display_data"
    }
   ],
   "source": [
    "# Plot the number of entries per day, before 2012 there are only 4 counting stations\n",
    "df_daily_data.datum.value_counts().plot()"
   ],
   "metadata": {
    "collapsed": false
   }
  },
  {
   "cell_type": "code",
   "execution_count": 10,
   "metadata": {},
   "outputs": [],
   "source": [
    "# In the plot it looks like there are no exceptions, but let's query the dataset to be 100% sure\n",
    "days_with_more_than_6_entries_per_day = df_daily_data.groupby('datum').filter(lambda x: len(x) > 6).index\n",
    "\n",
    "assert len(days_with_more_than_6_entries_per_day) == 0"
   ]
  },
  {
   "cell_type": "code",
   "execution_count": 11,
   "metadata": {},
   "outputs": [
    {
     "name": "stdout",
     "output_type": "stream",
     "text": [
      "datum               0\n",
      "zaehlstelle         0\n",
      "richtung_1_x        0\n",
      "richtung_2_x        0\n",
      "gesamt              0\n",
      "min-temp            0\n",
      "max-temp            0\n",
      "niederschlag        0\n",
      "bewoelkung          0\n",
      "sonnenstunden       0\n",
      "datei               0\n",
      "zaehlstelle_lang    0\n",
      "latitude            0\n",
      "longitude           0\n",
      "richtung_1_y        0\n",
      "richtung_2_y        0\n",
      "besonderheiten      0\n",
      "dtype: int64\n",
      "\n",
      "No NaN values found, all is fine\n"
     ]
    }
   ],
   "source": [
    "# Check for null values in the dataset\n",
    "nans = df_daily_data.isnull().sum()\n",
    "print(nans)\n",
    "\n",
    "nan_count = df_daily_data.isnull().sum().sum()\n",
    "assert nan_count == 0\n",
    "\n",
    "print(\"\\nNo NaN values found, all is fine\")"
   ]
  },
  {
   "cell_type": "markdown",
   "metadata": {},
   "source": [
    "### Conclusion for daily data\n",
    "\n",
    "After correcting the date format and parsing the date, we can see that the data is fine (one entry for every station on all days) and also our explicit check did not bring up any missing data.\n",
    "\n",
    "**Daily data is fine without any further modifications**"
   ]
  },
  {
   "cell_type": "code",
   "execution_count": 12,
   "metadata": {},
   "outputs": [],
   "source": [
    "df_daily_data = df_daily_data.sort_index()\n",
    "\n",
    "filename = f'cleaned/bicycle-counting-station-daily.json'\n",
    "df_daily_data.to_json(filename, orient='records', lines=True)"
   ]
  }
 ],
 "metadata": {
  "kernelspec": {
   "display_name": "Python 3 (ipykernel)",
   "language": "python",
   "name": "python3"
  },
  "language_info": {
   "codemirror_mode": {
    "name": "ipython",
    "version": 3
   },
   "file_extension": ".py",
   "mimetype": "text/x-python",
   "name": "python",
   "nbconvert_exporter": "python",
   "pygments_lexer": "ipython3",
   "version": "3.10.6"
  }
 },
 "nbformat": 4,
 "nbformat_minor": 1
}
